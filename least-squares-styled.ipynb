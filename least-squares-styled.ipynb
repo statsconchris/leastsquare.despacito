{
 "cells": [
  {
   "cell_type": "markdown",
   "metadata": {},
   "source": [
    "# <center> The least squares method </center>\n",
    "## <center> The most viewed videos in Youtube (2017) </center>"
   ]
  },
  {
   "cell_type": "code",
   "execution_count": 10,
   "metadata": {},
   "outputs": [],
   "source": [
    "import numpy as np\n",
    "import pandas as pd\n",
    "import matplotlib.pyplot as plt\n",
    "import matplotlib.font_manager as fm \n",
    "\n",
    "from matplotlib.ticker import FormatStrFormatter\n",
    "\n",
    "# We obtaint the fonts' path\n",
    "fm.findSystemFonts(fontpaths=None, fontext=\"ttf\")\n"
   ]
  },
  {
   "cell_type": "code",
   "execution_count": 2,
   "metadata": {},
   "outputs": [
    {
     "data": {
      "text/html": [
       "<h3>Number of Youtube views (millions)</h3>"
      ],
      "text/plain": [
       "<IPython.core.display.HTML object>"
      ]
     },
     "metadata": {},
     "output_type": "display_data"
    },
    {
     "data": {
      "text/html": [
       "<div>\n",
       "<style scoped>\n",
       "    .dataframe tbody tr th:only-of-type {\n",
       "        vertical-align: middle;\n",
       "    }\n",
       "\n",
       "    .dataframe tbody tr th {\n",
       "        vertical-align: top;\n",
       "    }\n",
       "\n",
       "    .dataframe thead th {\n",
       "        text-align: right;\n",
       "    }\n",
       "</style>\n",
       "<table border=\"1\" class=\"dataframe\">\n",
       "  <thead>\n",
       "    <tr style=\"text-align: right;\">\n",
       "      <th></th>\n",
       "      <th>x</th>\n",
       "      <th>Gangnam Style</th>\n",
       "      <th>See You Again</th>\n",
       "      <th>Sorry</th>\n",
       "      <th>Uptown Funk</th>\n",
       "      <th>Despacito</th>\n",
       "    </tr>\n",
       "  </thead>\n",
       "  <tbody>\n",
       "    <tr>\n",
       "      <th>2017-07-04</th>\n",
       "      <td>4</td>\n",
       "      <td>2886.5</td>\n",
       "      <td>2872.8</td>\n",
       "      <td>2628.8</td>\n",
       "      <td>2532.0</td>\n",
       "      <td>2310</td>\n",
       "    </tr>\n",
       "    <tr>\n",
       "      <th>2017-07-05</th>\n",
       "      <td>5</td>\n",
       "      <td>2887.5</td>\n",
       "      <td>2875.9</td>\n",
       "      <td>2630.9</td>\n",
       "      <td>2534.1</td>\n",
       "      <td>2328</td>\n",
       "    </tr>\n",
       "    <tr>\n",
       "      <th>2017-07-06</th>\n",
       "      <td>6</td>\n",
       "      <td>2888.5</td>\n",
       "      <td>2879.0</td>\n",
       "      <td>2633.0</td>\n",
       "      <td>2536.3</td>\n",
       "      <td>2348</td>\n",
       "    </tr>\n",
       "    <tr>\n",
       "      <th>2017-07-07</th>\n",
       "      <td>7</td>\n",
       "      <td>2889.5</td>\n",
       "      <td>2882.2</td>\n",
       "      <td>2635.1</td>\n",
       "      <td>2538.5</td>\n",
       "      <td>2369</td>\n",
       "    </tr>\n",
       "    <tr>\n",
       "      <th>2017-07-08</th>\n",
       "      <td>8</td>\n",
       "      <td>2890.6</td>\n",
       "      <td>2885.7</td>\n",
       "      <td>2637.4</td>\n",
       "      <td>2540.8</td>\n",
       "      <td>2393</td>\n",
       "    </tr>\n",
       "    <tr>\n",
       "      <th>2017-07-09</th>\n",
       "      <td>9</td>\n",
       "      <td>2891.6</td>\n",
       "      <td>2889.0</td>\n",
       "      <td>2639.6</td>\n",
       "      <td>2543.0</td>\n",
       "      <td>2415</td>\n",
       "    </tr>\n",
       "  </tbody>\n",
       "</table>\n",
       "</div>"
      ]
     },
     "metadata": {},
     "output_type": "display_data"
    }
   ],
   "source": [
    "# We use Pandas to set a data frame of the most viewed videos in Youtube    \n",
    "\n",
    "date = pd.date_range(\"20170704\", periods=6)\n",
    "set = {\n",
    "    \"x\": [4,5,6,7,8,9],\n",
    "    \"Gangnam Style\": [2886.5,2887.5,2888.5,2889.5,2890.6,2891.6],\n",
    "    \"See You Again\": [2872.8,2875.9,2879,2882.2,2885.7,2889], \n",
    "    \"Sorry\": [2628.8,2630.9,2633,2635.1,2637.4,2639.6],\n",
    "    \"Uptown Funk\": [2532,2534.1,2536.3,2538.5,2540.8,2543],\n",
    "    \"Despacito\": [2310,2328,2348,2369,2393,2415]\n",
    "}\n",
    "song = pd.DataFrame(set, index=date)\n",
    "\n",
    "from IPython.display import HTML, display_html, display\n",
    "display(HTML('<h3>Number of Youtube views (millions)</h3>'))\n",
    "display_html(song)"
   ]
  },
  {
   "cell_type": "code",
   "execution_count": 3,
   "metadata": {},
   "outputs": [
    {
     "data": {
      "image/png": "[encoded data removed]",
      "text/plain": [
       "<Figure size 432x288 with 1 Axes>"
      ]
     },
     "metadata": {
      "needs_background": "light"
     },
     "output_type": "display_data"
    }
   ],
   "source": [
    "# We plot number of views vs time \n",
    "\n",
    "# Each user must choose its own fonts' path\n",
    "pathttf = 'C:\\\\Users\\\\copro\\\\AppData\\\\Local\\\\Microsoft\\\\Windows\\\\Fonts\\\\TitilliumWeb-Light.ttf'\n",
    "titillium    = fm.FontProperties(fname= pathttf)\n",
    "\n",
    "Fig1 = song.plot(x = 'x',marker='*')\n",
    "Fig1.set_ylabel(\"Number of Youtube views (millions)\",fontproperties=titillium, size=15)\n",
    "Fig1.set_xlabel(\"Time (days)\", fontproperties=titillium, size=15)\n",
    "\n",
    "boxdata =Fig1.legend()\n",
    "plt.setp(boxdata.texts, fontproperties=titillium)\n",
    "\n",
    "Fig1.set_xticklabels(Fig1.get_xticks(), fontproperties=titillium, size=14)\n",
    "Fig1.set_yticklabels(Fig1.get_yticks(), fontproperties=titillium, size=14)\n",
    "Fig1.xaxis.set_major_formatter(FormatStrFormatter('%d'))\n",
    "Fig1.yaxis.set_major_formatter(FormatStrFormatter('%d'))\n",
    "\n",
    "plt.axvspan(4, 9, color='y', alpha=0.3, lw=0)\n",
    "plt.savefig(\"despacitodata.svg\")"
   ]
  },
  {
   "cell_type": "markdown",
   "metadata": {},
   "source": [
    "### The following equations are derived in the article:\n",
    "Read the article: [The least squares method with Despacito](https://nepy.pe/article.php?pid=6240c453eae64&lan=en).\n",
    "\n",
    "The linear equation with one variable is: $y = m x + b$, with\n",
    "$$ m = \\frac{n\\sum_i^n y_i x_i - \\sum_i^n y_i \\sum_i^n x_i}{n\\sum_i^n x_i^2 - (\\sum_i^n x_i)^2},$$\n",
    "$$ b = \\frac{\\sum_i^n y_i \\sum_i^n x_i^2 - \\sum_i^n y_i x_i \\sum_i^n x_i}{n\\sum_i^n x_i^2 - (\\sum_i^n x_i)^2}.$$\n",
    "\n",
    "Considering the following relations:\n",
    "\n",
    "$$ S_x = \\sum_i^n x_i, $$\n",
    "$$ S_{xx} = \\sum_i^n x_i^2, $$\n",
    "$$ S_y = \\sum_i^n y_i, $$\n",
    "$$ S_{yx} = \\sum_i^n y_i x_i. $$\n",
    "\n",
    "The expressions are reduced to:\n",
    "\n",
    "$$ m = \\frac{n S_{yx} - S_y S_x}{n S_{xx} - (S_x)^2},$$\n",
    "$$ b = \\frac{S_y S_{xx} - S_{yx} S_x}{n S_{xx} - (S_x)^2}.$$\n",
    "\n",
    "Then we have,"
   ]
  },
  {
   "cell_type": "code",
   "execution_count": 4,
   "metadata": {},
   "outputs": [],
   "source": [
    "# We set m and b in vector form\n",
    "\n",
    "cancion = song.to_numpy()\n",
    "Sx  = np.sum(cancion[:,0])\n",
    "Sxx = np.sum(np.power(cancion[:,0] ,2))\n",
    "Sy  = np.sum(cancion[:,1:6] ,axis=0)\n",
    "Syx = np.sum(cancion[:,1:6] * cancion[:,0].reshape((len(cancion),1)) ,axis=0)\n",
    "n   = len(cancion[:,0])\n",
    "\n",
    "m = (n*Syx - Sy*Sx)/(n*Sxx - Sx*Sx)\n",
    "b = (Sy * Sxx - Syx * Sx)/(n*Sxx - Sx*Sx)"
   ]
  },
  {
   "cell_type": "code",
   "execution_count": 5,
   "metadata": {},
   "outputs": [],
   "source": [
    "# We set the linear equations in vector form\n",
    "\n",
    "points = 51\n",
    "y= np.zeros((points,len(cancion)-1))\n",
    "x= np.zeros((points,1))\n",
    "for i in range(0,points):\n",
    "    x[i] = i           # x.shape = (51,1)\n",
    "    y[i,:] = m*i + b   # y.shape = (51,5)\n",
    "\n",
    "# y[:,0] => Gangnam Style, y[:,1] => See You Again, y[:,2] => Sorry, y[:,3] => Uptown Funk, y[:,4] => Despacito. "
   ]
  },
  {
   "cell_type": "code",
   "execution_count": 6,
   "metadata": {
    "scrolled": true
   },
   "outputs": [
    {
     "data": {
      "image/png": "[encoded data removed]",
      "text/plain": [
       "<Figure size 432x288 with 1 Axes>"
      ]
     },
     "metadata": {
      "needs_background": "light"
     },
     "output_type": "display_data"
    }
   ],
   "source": [
    "# We plot the linear equations\n",
    "\n",
    "xmin=0\n",
    "xmax=50\n",
    "ymin=2200\n",
    "ymax=3500\n",
    "\n",
    "fig, ax = plt.subplots()\n",
    "ax.plot(x, y)\n",
    "\n",
    "ax.set_ylabel(\"Number of Youtube views (millions)\", fontproperties=titillium, size=15)\n",
    "ax.set_xlabel(\"Time (days)\", fontproperties=titillium, size=15);\n",
    "\n",
    "boxline = ax.legend(['Gangnam Style','See You Again','Sorry','Uptown Funk','Despacito'])\n",
    "plt.setp(boxline.texts, fontproperties=titillium)\n",
    "\n",
    "ax.set(xlim=(xmin, xmax), ylim=(ymin, ymax))\n",
    "ax.set_xticklabels(ax.get_xticks(), fontproperties=titillium, size=14)\n",
    "ax.set_yticklabels(ax.get_yticks(), fontproperties=titillium, size=14)\n",
    "ax.xaxis.set_major_formatter(FormatStrFormatter('%d'))\n",
    "ax.yaxis.set_major_formatter(FormatStrFormatter('%d'))\n",
    "\n",
    "plt.axvspan(4, 9, color='y', alpha=0.3, lw=0)\n",
    "plt.savefig(\"despacitoline.svg\")"
   ]
  },
  {
   "cell_type": "markdown",
   "metadata": {},
   "source": [
    "# When does See You Again surpass Gangnam Style?\n",
    "\n",
    "The linear equations of Gangnam Style ($g$) and See You Again ($s$) are:\n",
    "\n",
    "$$y_{g} = m_{g} x + b_{g},$$\n",
    "$$y_{s} = m_{s} x + b_{s}.$$\n",
    "\n",
    "See You Again surpasses Gangnam Style just when the lines intersect, i.e.,\n",
    "\n",
    "$$x = \\frac{b_{g} - b_{s}}{m_{s} - m_{g}}.$$"
   ]
  },
  {
   "cell_type": "code",
   "execution_count": 7,
   "metadata": {},
   "outputs": [
    {
     "data": {
      "text/plain": [
       "10.218937446442368"
      ]
     },
     "execution_count": 7,
     "metadata": {},
     "output_type": "execute_result"
    }
   ],
   "source": [
    "(b[0]-b[1])/(m[1]-m[0])"
   ]
  },
  {
   "cell_type": "markdown",
   "metadata": {},
   "source": [
    "**- On July 10th, See You Again surpasses Gangnam Style.**"
   ]
  },
  {
   "cell_type": "markdown",
   "metadata": {},
   "source": [
    "# When does Despacito surpass the other songs?\n",
    "A similar approach as before is taken:\n"
   ]
  },
  {
   "cell_type": "code",
   "execution_count": 8,
   "metadata": {},
   "outputs": [
    {
     "name": "stdout",
     "output_type": "stream",
     "text": [
      "[32.731801852901, 35.523483158003984, 20.893096884078428, 15.831399728793286]\n"
     ]
    }
   ],
   "source": [
    "# j=0 is Gangnam Style, j=1 is See You Again, j=2 is Sorry, and j=3 is Uptown Funk\n",
    "dates=[]\n",
    "for j in range(0,4): \n",
    "    dates.append((b[j]-b[4])/(m[4]-m[j]))\n",
    "print(dates)"
   ]
  },
  {
   "cell_type": "markdown",
   "metadata": {},
   "source": [
    "**- On July 15th it surpasses Uptown Funk.**\n",
    "\n",
    "**- On July 20th 20 it surpasses Sorry.**\n",
    "\n",
    "**- On July 32nd ( August 1st) it surpasses Gangnam Style.**\n",
    "\n",
    "**- On July 35th ( August 4th ) it surpasses See You Again.**\n"
   ]
  },
  {
   "cell_type": "markdown",
   "metadata": {},
   "source": [
    "# When does Despacito reach 3 billion views in Youtube?\n",
    "The linear equation of Despacito ($d$) is:\n",
    "\n",
    "$$y_{d} = m_{d} x + b_{d}.$$\n",
    "\n",
    "To know when it reaches 3 billion views we set:\n",
    "\n",
    "$$\\frac{3000- b_{d}}{m_{d}} = x.$$"
   ]
  },
  {
   "cell_type": "code",
   "execution_count": 9,
   "metadata": {},
   "outputs": [
    {
     "data": {
      "text/plain": [
       "36.705802968960874"
      ]
     },
     "execution_count": 9,
     "metadata": {},
     "output_type": "execute_result"
    }
   ],
   "source": [
    "(3000 - b[4]) / m[4]"
   ]
  },
  {
   "cell_type": "markdown",
   "metadata": {},
   "source": [
    "**- On July 36th (August 5th) Despacito reaches 3 billion views in Youtube.**\n"
   ]
  }
 ],
 "metadata": {
  "kernelspec": {
   "display_name": "Python 3",
   "language": "python",
   "name": "python3"
  },
  "language_info": {
   "codemirror_mode": {
    "name": "ipython",
    "version": 3
   },
   "file_extension": ".py",
   "mimetype": "text/x-python",
   "name": "python",
   "nbconvert_exporter": "python",
   "pygments_lexer": "ipython3",
   "version": "3.7.6"
  }
 },
 "nbformat": 4,
 "nbformat_minor": 4
}
