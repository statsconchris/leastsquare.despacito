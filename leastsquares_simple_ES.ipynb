{
 "cells": [
  {
   "cell_type": "markdown",
   "metadata": {},
   "source": [
    "# <center> El método de los mínimos cuadrados </center>\n",
    "## <center> Las canciones más vistas en Youtube (2017) </center>"
   ]
  },
  {
   "cell_type": "code",
   "execution_count": 1,
   "metadata": {},
   "outputs": [],
   "source": [
    "import numpy as np\n",
    "import pandas as pd\n",
    "import matplotlib.pyplot as plt"
   ]
  },
  {
   "cell_type": "code",
   "execution_count": 2,
   "metadata": {},
   "outputs": [
    {
     "data": {
      "text/html": [
       "<h3>Número de vistas en Youtube (millones)</h3>"
      ],
      "text/plain": [
       "<IPython.core.display.HTML object>"
      ]
     },
     "metadata": {},
     "output_type": "display_data"
    },
    {
     "data": {
      "text/html": [
       "<div>\n",
       "<style scoped>\n",
       "    .dataframe tbody tr th:only-of-type {\n",
       "        vertical-align: middle;\n",
       "    }\n",
       "\n",
       "    .dataframe tbody tr th {\n",
       "        vertical-align: top;\n",
       "    }\n",
       "\n",
       "    .dataframe thead th {\n",
       "        text-align: right;\n",
       "    }\n",
       "</style>\n",
       "<table border=\"1\" class=\"dataframe\">\n",
       "  <thead>\n",
       "    <tr style=\"text-align: right;\">\n",
       "      <th></th>\n",
       "      <th>x</th>\n",
       "      <th>Gangnam Style</th>\n",
       "      <th>See You Again</th>\n",
       "      <th>Sorry</th>\n",
       "      <th>Uptown Funk</th>\n",
       "      <th>Despacito</th>\n",
       "    </tr>\n",
       "  </thead>\n",
       "  <tbody>\n",
       "    <tr>\n",
       "      <th>2017-07-04</th>\n",
       "      <td>4</td>\n",
       "      <td>2886.5</td>\n",
       "      <td>2872.8</td>\n",
       "      <td>2628.8</td>\n",
       "      <td>2532.0</td>\n",
       "      <td>2310</td>\n",
       "    </tr>\n",
       "    <tr>\n",
       "      <th>2017-07-05</th>\n",
       "      <td>5</td>\n",
       "      <td>2887.5</td>\n",
       "      <td>2875.9</td>\n",
       "      <td>2630.9</td>\n",
       "      <td>2534.1</td>\n",
       "      <td>2328</td>\n",
       "    </tr>\n",
       "    <tr>\n",
       "      <th>2017-07-06</th>\n",
       "      <td>6</td>\n",
       "      <td>2888.5</td>\n",
       "      <td>2879.0</td>\n",
       "      <td>2633.0</td>\n",
       "      <td>2536.3</td>\n",
       "      <td>2348</td>\n",
       "    </tr>\n",
       "    <tr>\n",
       "      <th>2017-07-07</th>\n",
       "      <td>7</td>\n",
       "      <td>2889.5</td>\n",
       "      <td>2882.2</td>\n",
       "      <td>2635.1</td>\n",
       "      <td>2538.5</td>\n",
       "      <td>2369</td>\n",
       "    </tr>\n",
       "    <tr>\n",
       "      <th>2017-07-08</th>\n",
       "      <td>8</td>\n",
       "      <td>2890.6</td>\n",
       "      <td>2885.7</td>\n",
       "      <td>2637.4</td>\n",
       "      <td>2540.8</td>\n",
       "      <td>2393</td>\n",
       "    </tr>\n",
       "    <tr>\n",
       "      <th>2017-07-09</th>\n",
       "      <td>9</td>\n",
       "      <td>2891.6</td>\n",
       "      <td>2889.0</td>\n",
       "      <td>2639.6</td>\n",
       "      <td>2543.0</td>\n",
       "      <td>2415</td>\n",
       "    </tr>\n",
       "  </tbody>\n",
       "</table>\n",
       "</div>"
      ]
     },
     "metadata": {},
     "output_type": "display_data"
    }
   ],
   "source": [
    "# Usamos Pandas para definir la tabla de datos de las canciones más vistas en Youtube\n",
    "\n",
    "date = pd.date_range(\"20170704\", periods=6)\n",
    "set = {\n",
    "    \"x\": [4,5,6,7,8,9],\n",
    "    \"Gangnam Style\": [2886.5,2887.5,2888.5,2889.5,2890.6,2891.6],\n",
    "    \"See You Again\": [2872.8,2875.9,2879,2882.2,2885.7,2889], \n",
    "    \"Sorry\": [2628.8,2630.9,2633,2635.1,2637.4,2639.6],\n",
    "    \"Uptown Funk\": [2532,2534.1,2536.3,2538.5,2540.8,2543],\n",
    "    \"Despacito\": [2310,2328,2348,2369,2393,2415]\n",
    "}\n",
    "song = pd.DataFrame(set, index=date)\n",
    "\n",
    "from IPython.display import HTML, display_html, display\n",
    "display(HTML('<h3>Número de vistas en Youtube (millones)</h3>'))\n",
    "display_html(song)"
   ]
  },
  {
   "cell_type": "code",
   "execution_count": 3,
   "metadata": {},
   "outputs": [
    {
     "data": {
      "text/plain": [
       "Text(0.5, 0, 'Tiempo (días)')"
      ]
     },
     "execution_count": 3,
     "metadata": {},
     "output_type": "execute_result"
    },
    {
     "data": {
      "image/png": "[encoded data removed]",
      "text/plain": [
       "<Figure size 432x288 with 1 Axes>"
      ]
     },
     "metadata": {
      "needs_background": "light"
     },
     "output_type": "display_data"
    }
   ],
   "source": [
    "# Graficamos el número de vistas vs tiempo\n",
    "\n",
    "Fig1 = song.plot(x = 'x',marker='*')\n",
    "Fig1.set_ylabel(\"Número de vistas en Youtube (millones)\")\n",
    "Fig1.set_xlabel(\"Tiempo (días)\")"
   ]
  },
  {
   "cell_type": "markdown",
   "metadata": {},
   "source": [
    "### Las ecuaciones derivadas en el artículo:\n",
    "(ver artículo: http://www.nepy.pe/es/tutorial/el-metodo-de-los-minimos-cuadrados)\n",
    "\n",
    "La ecuación de la recta es: $y = m x + b$, con\n",
    "$$ m = \\frac{n\\sum_i^n y_i x_i - \\sum_i^n y_i \\sum_i^n x_i}{n\\sum_i^n x_i^2 - (\\sum_i^n x_i)^2},$$\n",
    "$$ b = \\frac{\\sum_i^n y_i \\sum_i^n x_i^2 - \\sum_i^n y_i x_i \\sum_i^n x_i}{n\\sum_i^n x_i^2 - (\\sum_i^n x_i)^2}.$$\n",
    "\n",
    "Considerando las siguientes relaciones:\n",
    "\n",
    "$$ S_x = \\sum_i^n x_i, $$\n",
    "$$ S_{xx} = \\sum_i^n x_i^2, $$\n",
    "$$ S_y = \\sum_i^n y_i, $$\n",
    "$$ S_{yx} = \\sum_i^n y_i x_i. $$\n",
    "\n",
    "Las expresiones se reducen a:\n",
    "\n",
    "$$ m = \\frac{n S_{yx} - S_y S_x}{n S_{xx} - (S_x)^2},$$\n",
    "$$ b = \\frac{S_y S_{xx} - S_{yx} S_x}{n S_{xx} - (S_x)^2}.$$\n",
    "\n",
    "Entonces tenemos,"
   ]
  },
  {
   "cell_type": "code",
   "execution_count": 4,
   "metadata": {},
   "outputs": [],
   "source": [
    "# Definimos los parámetros de m y b en forma vectorial\n",
    "\n",
    "cancion = song.to_numpy()\n",
    "Sx  = np.sum(cancion[:,0])\n",
    "Sxx = np.sum(np.power(cancion[:,0] ,2))\n",
    "Sy  = np.sum(cancion[:,1:6] ,axis=0)\n",
    "Syx = np.sum(cancion[:,1:6] * cancion[:,0].reshape((len(cancion),1)) ,axis=0)\n",
    "n   = len(cancion[:,0])\n",
    "\n",
    "m = (n*Syx - Sy*Sx)/(n*Sxx - Sx*Sx)\n",
    "b = (Sy * Sxx - Syx * Sx)/(n*Sxx - Sx*Sx)"
   ]
  },
  {
   "cell_type": "code",
   "execution_count": 5,
   "metadata": {},
   "outputs": [],
   "source": [
    "# Definimos las ecuaciones de las rectas en forma vectorial\n",
    "\n",
    "points = 51\n",
    "y= np.zeros((points,len(cancion)-1))\n",
    "x= np.zeros((points,1))\n",
    "for i in range(0,points):\n",
    "    x[i] = i           # x.shape = (51,1)\n",
    "    y[i,:] = m*i + b   # y.shape = (51,5)\n",
    "\n",
    "# y[:,0] => Gangnam Style, y[:,1] => See You Again, y[:,2] => Sorry, y[:,3] => Uptown Funk, y[:,4] => Despacito.      "
   ]
  },
  {
   "cell_type": "code",
   "execution_count": 6,
   "metadata": {},
   "outputs": [
    {
     "data": {
      "text/plain": [
       "Text(0.5, 0, 'Tiempo (días)')"
      ]
     },
     "execution_count": 6,
     "metadata": {},
     "output_type": "execute_result"
    },
    {
     "data": {
      "image/png": "[encoded data removed]",
      "text/plain": [
       "<Figure size 432x288 with 1 Axes>"
      ]
     },
     "metadata": {
      "needs_background": "light"
     },
     "output_type": "display_data"
    }
   ],
   "source": [
    "# Graficamos las ecuaciones de las rectas\n",
    "\n",
    "fig, ax = plt.subplots()\n",
    "ax.plot(x, y)\n",
    "ax.legend(['Gangnam Style','See You Again','Sorry','Uptown Funk','Despacito'])\n",
    "ax.set_ylabel(\"Número de vistas en Youtube (millones)\")\n",
    "ax.set_xlabel(\"Tiempo (días)\")"
   ]
  },
  {
   "cell_type": "markdown",
   "metadata": {},
   "source": [
    "# ¿En qué momento See You Again supera a Gangnam Style?\n",
    "\n",
    "Las ecuaciones de la rectas de Gangnam Style ($g$) y See You Again ($s$) son:\n",
    "\n",
    "$$y_{g} = m_{g} x + b_{g},$$\n",
    "$$y_{s} = m_{s} x + b_{s}.$$\n",
    "\n",
    "See You Again alcanza (y por ende supera) a Gangnam Style justo cuando las rectas se cruzan, i.e.,\n",
    "\n",
    "$$x = \\frac{b_{g} - b_{s}}{m_{s} - m_{g}}.$$"
   ]
  },
  {
   "cell_type": "code",
   "execution_count": 7,
   "metadata": {},
   "outputs": [
    {
     "data": {
      "text/plain": [
       "10.218937446442368"
      ]
     },
     "execution_count": 7,
     "metadata": {},
     "output_type": "execute_result"
    }
   ],
   "source": [
    "(b[0]-b[1])/(m[1]-m[0])"
   ]
  },
  {
   "cell_type": "markdown",
   "metadata": {},
   "source": [
    "**- El 10 de julio, See You Again alcanza y supera a Gangnam Style.**"
   ]
  },
  {
   "cell_type": "markdown",
   "metadata": {},
   "source": [
    "# ¿En qué momento Despacito supera a las demás canciones?\n",
    "Realizamos un procedimiento similar al anterior:\n"
   ]
  },
  {
   "cell_type": "code",
   "execution_count": 8,
   "metadata": {},
   "outputs": [
    {
     "name": "stdout",
     "output_type": "stream",
     "text": [
      "[32.731801852901, 35.523483158003984, 20.893096884078428, 15.831399728793286]\n"
     ]
    }
   ],
   "source": [
    "# j=0 => Gangnam Style, j=1 => See You Again, j=2 => Sorry y j=3 => Uptown Funk.\n",
    "dates=[]\n",
    "for j in range(0,4): \n",
    "    dates.append((b[j]-b[4])/(m[4]-m[j]))\n",
    "print(dates)"
   ]
  },
  {
   "cell_type": "markdown",
   "metadata": {},
   "source": [
    "**- El 15 de julio supera a Uptown Funk.**\n",
    "\n",
    "**- El 20 de julio supera a Sorry.**\n",
    "\n",
    "**- El 32 de julio (1 de agosto) supera a Gangnam Style.**\n",
    "\n",
    "**- El 35 de julio (4 de agosto) supera a See You Again.**"
   ]
  },
  {
   "cell_type": "markdown",
   "metadata": {},
   "source": [
    "# ¿En qué momento Despacito alcanza 3 mil millones de vistas?\n",
    "Las ecuación de la recta de Despacito ($d$) es:\n",
    "\n",
    "$$y_{d} = m_{d} x + b_{d}.$$\n",
    "\n",
    "Para entender en que momento alcanza 3 mil millones, definimos:\n",
    "\n",
    "$$\\frac{3000- b_{d}}{m_{d}} = x.$$"
   ]
  },
  {
   "cell_type": "code",
   "execution_count": 9,
   "metadata": {},
   "outputs": [
    {
     "data": {
      "text/plain": [
       "36.705802968960874"
      ]
     },
     "execution_count": 9,
     "metadata": {},
     "output_type": "execute_result"
    }
   ],
   "source": [
    "(3000 - b[4]) / m[4]"
   ]
  },
  {
   "cell_type": "markdown",
   "metadata": {},
   "source": [
    "**- El 36 de julio (5 de agosto) Despacito supera 3000 millones de vistas en Youtube.**\n"
   ]
  }
 ],
 "metadata": {
  "kernelspec": {
   "display_name": "Python 3",
   "language": "python",
   "name": "python3"
  },
  "language_info": {
   "codemirror_mode": {
    "name": "ipython",
    "version": 3
   },
   "file_extension": ".py",
   "mimetype": "text/x-python",
   "name": "python",
   "nbconvert_exporter": "python",
   "pygments_lexer": "ipython3",
   "version": "3.7.6"
  }
 },
 "nbformat": 4,
 "nbformat_minor": 4
}
